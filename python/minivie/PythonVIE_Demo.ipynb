{
 "cells": [
  {
   "cell_type": "markdown",
   "metadata": {},
   "source": [
    "# EMG Biointerfacing"
   ]
  },
  {
   "cell_type": "markdown",
   "metadata": {},
   "source": [
    "# Part 1: Controlling a dexterous prosthetic limb"
   ]
  },
  {
   "cell_type": "markdown",
   "metadata": {},
   "source": [
    "Establishing Communications with the Modular Prosthetic Limb\n"
   ]
  },
  {
   "cell_type": "markdown",
   "metadata": {},
   "source": [
    "1. Open the computer shortcut for JHUAPL vMPL Bimanual - Shortcut\n",
    "\n",
    "  a. Select Screen Resolution: 1280 x 720, Windowed\n",
    "\n",
    "  b. Graphics Quality: Good\n"
   ]
  },
  {
   "cell_type": "markdown",
   "metadata": {},
   "source": [
    "## Changing the vMPL Camera View"
   ]
  },
  {
   "cell_type": "markdown",
   "metadata": {},
   "source": [
    "Changing the vMPL Camera View\n",
    "Within the vMPL window, you can change the isometric viewpoint of the camera that looks at the virtual prosthetic limbs.  This can be accomplished by using the directional keys on the keyboard (e.g. up, down, left, right) to move the camera, and using the mouse by left-clicking on the window and moving the mouse to change the camera angle.  \n",
    "Note: if the camera is not movable, edit the camera_config.xml file in notepad and add this tag:\n",
    "  <cameraFly> true </cameraFly>\n",
    "Send limb commands from MATLAB\n"
   ]
  },
  {
   "cell_type": "markdown",
   "metadata": {},
   "source": [
    "## Send limb commands from Python"
   ]
  },
  {
   "cell_type": "markdown",
   "metadata": {},
   "source": [
    "The command messages are sent over the TCP/IP layer as UDP Datagrams:"
   ]
  },
  {
   "cell_type": "code",
   "execution_count": null,
   "metadata": {
    "collapsed": true
   },
   "outputs": [],
   "source": [
    "# Create a User Datagram Protocol (UDP) network socket for vMPL communications\n",
    "import socket\n",
    "\n",
    "UdpLocalPort = 25001  # 25101 = Left; 25001 = Right\n",
    "UdpDestinationPort = 25000  # 25100 = Left; 25000 = Right\n",
    "UdpAddress = '127.0.0.1'  # IP address of the Virtual MPL '127.0.0.1'\n",
    "sock = socket.socket(socket.AF_INET, socket.SOCK_DGRAM)\n",
    "sock.bind(('0.0.0.0', 25001))  # Bind the socket to receive incoming messages\n",
    "sock.settimeout(3.0)  # seconds"
   ]
  },
  {
   "cell_type": "markdown",
   "metadata": {},
   "source": [
    "Create a variable to store the 7 upper arm angles, in radians. \n",
    "1.\tShoulder Flexion (+) / Shoulder Extension (-)\n",
    "2.\tShoulder Adduction (+) / Shoulder Abduction (-)\n",
    "3.\tHumeral Internal Rotation (+) / Humeral External Rotation  (-) \n",
    "4.\tElbow Flexion (+) / Elbow Extension (-)\n",
    "5.\tWrist Pronation (+) / Wrist Supination (-)\n",
    "6.\tUlnar Deviation (+) / Radial Deviation (-)\n",
    "7.\tWrist Flexion (+) / Wrist Extension (-)\n"
   ]
  },
  {
   "cell_type": "code",
   "execution_count": 2,
   "metadata": {},
   "outputs": [],
   "source": [
    "upperArmAngles = [0.0] * 7"
   ]
  },
  {
   "cell_type": "markdown",
   "metadata": {},
   "source": [
    "Create a variable to store the 20 hand angles, in radians\n",
    "1.\tINDEX_AB_AD\n",
    "2.\tINDEX_MCP\n",
    "3.\tINDEX_PIP\n",
    "4.\tINDEX_DIP\n",
    "5.\tMIDDLE_AB_AD\n",
    "6.\tMIDDLE_MCP\n",
    "7.\tMIDDLE_PIP\n",
    "8.\tMIDDLE_DIP\n",
    "9.\tRING_AB_AD\n",
    "10.\tRING_MCP\n",
    "11.\tRING_PIP\n",
    "12.\tRING_DIP\n",
    "13.\tLITTLE_AB_AD\n",
    "14.\tLITTLE_MCP\n",
    "15.\tLITTLE_PIP\n",
    "16.\tLITTLE_DIP\n",
    "17.\tTHUMB_CMC_AD_AB\n",
    "18.\tTHUMB_CMC\n",
    "19.\tTHUMB_MCP\n",
    "20.\tTHUMB_DIP\n",
    "\n",
    "Note: INDEX = Index Finger; MIDDLE = Middle Finger etc.\n",
    "MCP = Metacarpophalangeal Joint Flexion/Extension (knuckles)\n",
    "PIP = Proximal Interphalangeal Joint Flexion/Extension \n",
    "DIP = Distal Interphalangeal Joint Flexion/Extension \n",
    "CMC = Carpometacarpophalangeal Joint (Base of thumb)\n",
    "AB_AD = Abduction Adduction (Side to Side motion)\n",
    "\n"
   ]
  },
  {
   "cell_type": "code",
   "execution_count": 3,
   "metadata": {},
   "outputs": [],
   "source": [
    "handAngles = [0.0] * 20"
   ]
  },
  {
   "cell_type": "markdown",
   "metadata": {},
   "source": [
    "Specify joint angles and transmit bytes"
   ]
  },
  {
   "cell_type": "code",
   "execution_count": 4,
   "metadata": {},
   "outputs": [
    {
     "data": {
      "text/plain": [
       "108"
      ]
     },
     "execution_count": 4,
     "metadata": {},
     "output_type": "execute_result"
    }
   ],
   "source": [
    "import math\n",
    "import struct\n",
    "\n",
    "upperArmAngles[0] = 35 * math.pi / 180\n",
    "upperArmAngles[3] = 60 * math.pi / 180\n",
    "\n",
    "values = upperArmAngles + handAngles\n",
    "packer = struct.Struct('27f')\n",
    "packed_data = packer.pack(*values)\n",
    "\n",
    "sock.sendto(packed_data, ('127.0.0.1', 25000))"
   ]
  },
  {
   "cell_type": "markdown",
   "metadata": {},
   "source": [
    "If you check the Virtual Arm Visualization and see the arm has moved then congratulations, you have now issued commands to the Modular Prosthetic Limb.   The tools included here will be identical if you are controlling the virtual limb, the physical limb, or both.  By prototyping in this way you can make a rapid transition from offline evaluation of your biointerface to controlling real hardware.  Using the TCP/IP model you can also control the limbs on other computers or over the internet."
   ]
  },
  {
   "cell_type": "markdown",
   "metadata": {},
   "source": [
    "## Explore:\n"
   ]
  },
  {
   "cell_type": "markdown",
   "metadata": {},
   "source": [
    "Repeat the last lines of code above to achieve the positions listed below.  Take a screen shot (“Print Screen” button or use the Windows7 Snipping Tool) for each position and save this and the joint angles into a word document (“Ctrl-V” paste function) -- you will need these for your lab report. \n",
    "1)\tAsking a Question\n",
    "2)\tDoing the Chicken-Dance\n",
    "3)\tWe're #1\n",
    "4)\tPaper, Rock, or Scissors (choose 1)\n",
    "Finally, add one position of your own choosing (5)\n",
    "\n"
   ]
  },
  {
   "cell_type": "markdown",
   "metadata": {},
   "source": [
    "## If there is extra time at the end of the lab:"
   ]
  },
  {
   "cell_type": "markdown",
   "metadata": {},
   "source": [
    "Update your commands to control both left and right arms independently\n",
    " "
   ]
  },
  {
   "cell_type": "markdown",
   "metadata": {},
   "source": [
    "# Part 2: Using the Myo Armband EMG Biointerface\n"
   ]
  },
  {
   "cell_type": "markdown",
   "metadata": {},
   "source": [
    "\n",
    "1)\tLaunch the Myo Armband Manager. (Right-Click the tray icon and select “Armband Manager”)\n",
    "\n",
    " \n",
    " \n",
    "2)\tEnsure the device is unplugged from USB and connected via Bluetooth (Press the “Connect” button)\n",
    "\n",
    "3)\tPlace the Myo on your arm with the logo facing up (I.e. if you bend your elbow, it will be in the crook of your arm), and make sure that the USB port and battery light (see image below) is down towards your hand (not toward the elbow).  \n",
    " \n",
    "Note: Myobands will go to sleep after 30 seconds of inactivity (as indicated by the blue line LED going off). If you aren’t getting any signals when using the device, reactivate by shaking the armband.\n",
    "4)\tStart the MyoUdp Shortcut and ensure data is streaming (numbers in brackets will change)\n",
    "\n",
    " \n",
    "\n",
    "5)\tCreate the MATLAB Interface by creating a new script in the MATLAB editor, and enter the following commands.  Note: Upon issuing these commands the first time, this will launch a small executable that handles the device communication.\n"
   ]
  },
  {
   "cell_type": "code",
   "execution_count": null,
   "metadata": {},
   "outputs": [],
   "source": [
    "import inputs.myo\n",
    "\n",
    "myo = inputs.myo.MyoUdp(source='//127.0.0.1:10001', num_samples=250)\n",
    "myo.connect()\n"
   ]
  },
  {
   "cell_type": "code",
   "execution_count": 20,
   "metadata": {},
   "outputs": [],
   "source": [
    "myo.close()\n"
   ]
  },
  {
   "cell_type": "markdown",
   "metadata": {},
   "source": [
    ""
   ]
  },
  {
   "cell_type": "markdown",
   "metadata": {},
   "source": [
    "## Get data and plot"
   ]
  },
  {
   "cell_type": "code",
   "execution_count": 10,
   "metadata": {},
   "outputs": [
    {
     "data": {
      "image/png": "[encoded data removed]",
      "text/plain": [
       "<matplotlib.figure.Figure at 0x95f8128>"
      ]
     },
     "metadata": {},
     "output_type": "display_data"
    }
   ],
   "source": [
    "import matplotlib.pyplot as plt\n",
    "\n",
    "emg = myo.get_data()\n",
    "\n",
    "plt.plot(emg)\n",
    "plt.xlabel('Sample Number')\n",
    "plt.ylabel('EMG Signal')\n",
    "plt.show()\n"
   ]
  },
  {
   "cell_type": "markdown",
   "metadata": {},
   "source": [
    "## Real time signal viewer\n"
   ]
  },
  {
   "cell_type": "code",
   "execution_count": null,
   "metadata": {},
   "outputs": [],
   "source": [
    "\n",
    "# Simple plot function for showing the EMG stream\n",
    "# Requires matplotlib\n",
    "#\n",
    "\n",
    "import matplotlib.pyplot as plt\n",
    "import matplotlib.animation as animation\n",
    "from matplotlib import style\n",
    "\n",
    "# Ensure that the minivie specific modules can be found on path allowing execution from the 'inputs' folder\n",
    "import os\n",
    "if os.path.split(os.getcwd())[1] == 'gui':\n",
    "    import sys\n",
    "    sys.path.insert(0, os.path.abspath('..'))\n",
    "from inputs import myo\n",
    "\n",
    "\n",
    "# Setup Data Source\n",
    "m = myo.MyoUdp(source='//127.0.0.1:10001', num_samples=600)\n",
    "m.connect()\n",
    "\n",
    "style.use('dark_background')\n",
    "fig = plt.figure()\n",
    "ax1 = fig.add_subplot(1, 1, 1)\n",
    "fig.canvas.set_window_title('EMG Preview')\n",
    "\n",
    "\n",
    "def animate(i):\n",
    "    d = m.get_data() / 128  # *1 for a shallow copy\n",
    "\n",
    "    for iChannel in range(0, 8):\n",
    "        d[:, iChannel] = d[::-1, iChannel] + (1 * (iChannel + 1) )\n",
    "\n",
    "    ax1.clear()\n",
    "    ax1.plot(d)\n",
    "    plt.ylim((0, 9))\n",
    "    plt.xlabel('Samples')\n",
    "    plt.ylabel('Channel')\n",
    "    plt.title('EMG Stream')\n",
    "    # print('{:0.2f}'.format(m.get_data_rate_emg()))\n",
    "\n",
    "\n",
    "ani = animation.FuncAnimation(fig, animate, interval=150)\n",
    "plt.show()\n"
   ]
  },
  {
   "cell_type": "markdown",
   "metadata": {},
   "source": [
    "Write a set of commands that will acquire a set of data (using the previous get_data command) and then compute the root mean square amplitude from each of the channels of interest.  "
   ]
  },
  {
   "cell_type": "code",
   "execution_count": 19,
   "metadata": {},
   "outputs": [
    {
     "data": {
      "text/plain": [
       "array([ 75.22188511,  72.88835298,  72.70702855,  73.5572702 ,\n        78.40533145,  73.43505975,  71.67311909,  73.41144325])"
      ]
     },
     "execution_count": 19,
     "metadata": {},
     "output_type": "execute_result"
    }
   ],
   "source": [
    "import numpy as np\n",
    "\n",
    "np.sqrt(np.mean(emg**2, axis=0))"
   ]
  },
  {
   "cell_type": "markdown",
   "metadata": {},
   "source": [
    "Record the RMS channel values for the 8 channels during the following movements. Please use the table given below.  (Note: For EMG, you must flex muscles as if working against resistance so that the muscle contraction is consistent and measurable.)\n",
    "\n",
    "a.\tRest\n",
    "\n",
    "b.\tWrist Flexion\n",
    "\n",
    "c.\tWrist Extension\n",
    "\n",
    "d.\tWrist Pronation\n",
    "\n",
    "e.\tWrist Supination\n",
    "\n",
    "f.\tCylindrical Grasp\n",
    "\n",
    "g.\tTip Grasp\n",
    "\n",
    "h.\tLateral Grasp\n",
    "\n",
    "i.\tRest (repeat)\n",
    "\n",
    "Optional:\n",
    "\n",
    "j.\tIndex Finger\n",
    "\n",
    "k.\tMiddle Finger\n",
    "\n",
    "l.\tRing Finger\n",
    "\n",
    "m.\tLittle Finger\n"
   ]
  },
  {
   "cell_type": "markdown",
   "metadata": {},
   "source": [
    "# Part 3: Closing the Loop\n",
    "\n",
    "In this part of the lab you will use the biointerface to \"close the loop\" between the human operator and the device by controlling the MPL using EMG data. To plan out the control, you will need to identify what characteristic of the EMG signal you want to use as an input, and how to control the device.\n",
    "\n",
    "## Conventional Control Mode\n",
    "\n",
    "In a conventional control mode for surface EMG, control will be achieved using the RMS value of 100ms of the EMG signal (sampled at 1kHz) for two channels. Look at the table you made in Part 2 and select the channel with the greatest RMS value during wrist flexion and wrist extension.\n"
   ]
  },
  {
   "cell_type": "markdown",
   "metadata": {},
   "source": [
    "Detect intended motions:\n",
    "\n",
    "In the code below, adjust the indicated parameters to assign channels for wrist flexion and extension, based on which channels had the greatest RMS values.  Also, set the activation threshold above the resting voltage but below the peak voltage so the arm only moves when commanded.\n"
   ]
  },
  {
   "cell_type": "markdown",
   "metadata": {},
   "source": []
  },
  {
   "cell_type": "code",
   "execution_count": 69,
   "metadata": {},
   "outputs": [
    {
     "name": "stdout",
     "output_type": "stream",
     "text": [
      "RMS ch 2=70.8 RMS ch 4=77.0 Wrist=1.4 deg\nRMS ch 2=71.2 RMS ch 4=77.2 Wrist=2.8 deg\nRMS ch 2=71.2 RMS ch 4=76.7 Wrist=4.1 deg\nRMS ch 2=71.3 RMS ch 4=77.3 Wrist=5.5 deg\nRMS ch 2=71.8 RMS ch 4=77.5 Wrist=6.9 deg\nRMS ch 2=72.0 RMS ch 4=77.1 Wrist=8.3 deg\nRMS ch 2=72.4 RMS ch 4=77.3 Wrist=9.6 deg\nRMS ch 2=73.1 RMS ch 4=76.4 Wrist=11.0 deg\nRMS ch 2=73.2 RMS ch 4=76.8 Wrist=12.4 deg\nRMS ch 2=73.3 RMS ch 4=76.6 Wrist=13.8 deg\n"
     ]
    },
    {
     "name": "stdout",
     "output_type": "stream",
     "text": [
      "RMS ch 2=73.3 RMS ch 4=76.4 Wrist=15.1 deg\nRMS ch 2=73.7 RMS ch 4=75.8 Wrist=16.5 deg\nRMS ch 2=73.7 RMS ch 4=76.3 Wrist=17.9 deg\nRMS ch 2=73.9 RMS ch 4=76.5 Wrist=19.3 deg\nRMS ch 2=74.0 RMS ch 4=76.3 Wrist=20.6 deg\nRMS ch 2=74.0 RMS ch 4=75.7 Wrist=22.0 deg\nRMS ch 2=74.2 RMS ch 4=75.4 Wrist=23.4 deg\nRMS ch 2=74.3 RMS ch 4=75.9 Wrist=24.8 deg\nRMS ch 2=74.4 RMS ch 4=75.7 Wrist=26.1 deg\nRMS ch 2=74.8 RMS ch 4=75.7 Wrist=27.5 deg\n"
     ]
    },
    {
     "name": "stdout",
     "output_type": "stream",
     "text": [
      "RMS ch 2=75.0 RMS ch 4=74.9 Wrist=28.9 deg\nRMS ch 2=75.4 RMS ch 4=75.0 Wrist=30.3 deg\nRMS ch 2=75.4 RMS ch 4=74.7 Wrist=31.6 deg\nRMS ch 2=75.4 RMS ch 4=74.7 Wrist=33.0 deg\nRMS ch 2=75.5 RMS ch 4=75.0 Wrist=34.4 deg\nRMS ch 2=76.0 RMS ch 4=75.2 Wrist=35.8 deg\nRMS ch 2=76.0 RMS ch 4=74.8 Wrist=37.1 deg\nRMS ch 2=75.9 RMS ch 4=75.1 Wrist=38.5 deg\nRMS ch 2=76.0 RMS ch 4=75.4 Wrist=39.9 deg\nRMS ch 2=76.3 RMS ch 4=75.3 Wrist=41.3 deg\n"
     ]
    },
    {
     "name": "stdout",
     "output_type": "stream",
     "text": [
      "RMS ch 2=76.2 RMS ch 4=75.7 Wrist=42.6 deg\nRMS ch 2=76.3 RMS ch 4=75.7 Wrist=44.0 deg\nRMS ch 2=76.4 RMS ch 4=75.7 Wrist=45.0 deg\nRMS ch 2=76.4 RMS ch 4=75.4 Wrist=45.0 deg\nRMS ch 2=76.2 RMS ch 4=75.3 Wrist=45.0 deg\nRMS ch 2=76.4 RMS ch 4=75.2 Wrist=45.0 deg\nRMS ch 2=77.1 RMS ch 4=75.1 Wrist=45.0 deg\nRMS ch 2=77.8 RMS ch 4=75.3 Wrist=45.0 deg\nRMS ch 2=78.0 RMS ch 4=75.5 Wrist=45.0 deg\nRMS ch 2=78.1 RMS ch 4=76.3 Wrist=45.0 deg\n"
     ]
    },
    {
     "name": "stdout",
     "output_type": "stream",
     "text": [
      "RMS ch 2=78.6 RMS ch 4=75.9 Wrist=45.0 deg\nRMS ch 2=78.1 RMS ch 4=75.6 Wrist=45.0 deg\nRMS ch 2=78.1 RMS ch 4=76.3 Wrist=45.0 deg\nRMS ch 2=78.4 RMS ch 4=76.6 Wrist=45.0 deg\nRMS ch 2=78.3 RMS ch 4=76.3 Wrist=45.0 deg\nRMS ch 2=78.5 RMS ch 4=76.0 Wrist=45.0 deg\nRMS ch 2=78.6 RMS ch 4=76.2 Wrist=45.0 deg\nRMS ch 2=78.4 RMS ch 4=76.5 Wrist=45.0 deg\nRMS ch 2=78.3 RMS ch 4=76.3 Wrist=45.0 deg\nRMS ch 2=78.0 RMS ch 4=76.5 Wrist=45.0 deg\n"
     ]
    },
    {
     "name": "stdout",
     "output_type": "stream",
     "text": [
      "RMS ch 2=77.6 RMS ch 4=76.6 Wrist=45.0 deg\nRMS ch 2=77.6 RMS ch 4=76.8 Wrist=45.0 deg\nRMS ch 2=77.8 RMS ch 4=76.9 Wrist=45.0 deg\nRMS ch 2=77.8 RMS ch 4=77.4 Wrist=45.0 deg\nRMS ch 2=77.8 RMS ch 4=77.2 Wrist=45.0 deg\nRMS ch 2=77.9 RMS ch 4=77.7 Wrist=45.0 deg\nRMS ch 2=78.3 RMS ch 4=77.8 Wrist=45.0 deg\nRMS ch 2=78.0 RMS ch 4=77.6 Wrist=45.0 deg\nRMS ch 2=77.8 RMS ch 4=78.4 Wrist=45.0 deg\nRMS ch 2=77.9 RMS ch 4=77.8 Wrist=45.0 deg\n"
     ]
    },
    {
     "name": "stdout",
     "output_type": "stream",
     "text": [
      "RMS ch 2=77.7 RMS ch 4=77.4 Wrist=45.0 deg\nRMS ch 2=77.7 RMS ch 4=78.2 Wrist=45.0 deg\nRMS ch 2=78.4 RMS ch 4=77.6 Wrist=45.0 deg\nRMS ch 2=78.2 RMS ch 4=77.7 Wrist=45.0 deg\nRMS ch 2=78.0 RMS ch 4=77.9 Wrist=45.0 deg\nRMS ch 2=77.8 RMS ch 4=77.6 Wrist=45.0 deg\nRMS ch 2=77.9 RMS ch 4=77.6 Wrist=45.0 deg\nRMS ch 2=78.2 RMS ch 4=77.6 Wrist=45.0 deg\nRMS ch 2=77.8 RMS ch 4=77.7 Wrist=45.0 deg\nRMS ch 2=77.3 RMS ch 4=77.3 Wrist=45.0 deg\n"
     ]
    },
    {
     "name": "stdout",
     "output_type": "stream",
     "text": [
      "RMS ch 2=77.8 RMS ch 4=77.3 Wrist=45.0 deg\nRMS ch 2=77.2 RMS ch 4=78.0 Wrist=45.0 deg\nRMS ch 2=77.0 RMS ch 4=77.6 Wrist=45.0 deg\nRMS ch 2=77.4 RMS ch 4=76.7 Wrist=45.0 deg\nRMS ch 2=77.7 RMS ch 4=76.7 Wrist=45.0 deg\nRMS ch 2=77.4 RMS ch 4=76.5 Wrist=45.0 deg\nRMS ch 2=77.7 RMS ch 4=76.8 Wrist=45.0 deg\nRMS ch 2=77.8 RMS ch 4=76.6 Wrist=45.0 deg\nRMS ch 2=77.7 RMS ch 4=76.7 Wrist=45.0 deg\nRMS ch 2=77.7 RMS ch 4=76.8 Wrist=45.0 deg\n"
     ]
    },
    {
     "name": "stdout",
     "output_type": "stream",
     "text": [
      "RMS ch 2=77.6 RMS ch 4=76.6 Wrist=45.0 deg\nRMS ch 2=77.3 RMS ch 4=76.4 Wrist=45.0 deg\nRMS ch 2=77.3 RMS ch 4=76.1 Wrist=45.0 deg\nRMS ch 2=76.8 RMS ch 4=75.9 Wrist=45.0 deg\nRMS ch 2=76.7 RMS ch 4=76.1 Wrist=45.0 deg\nRMS ch 2=76.1 RMS ch 4=76.3 Wrist=45.0 deg\nRMS ch 2=75.8 RMS ch 4=76.3 Wrist=45.0 deg\nRMS ch 2=76.1 RMS ch 4=76.5 Wrist=45.0 deg\nRMS ch 2=75.4 RMS ch 4=76.8 Wrist=45.0 deg\nRMS ch 2=75.8 RMS ch 4=76.9 Wrist=45.0 deg\n"
     ]
    },
    {
     "name": "stdout",
     "output_type": "stream",
     "text": [
      "RMS ch 2=75.4 RMS ch 4=76.0 Wrist=45.0 deg\nRMS ch 2=75.7 RMS ch 4=75.8 Wrist=45.0 deg\nRMS ch 2=75.8 RMS ch 4=75.9 Wrist=45.0 deg\nRMS ch 2=75.7 RMS ch 4=75.4 Wrist=45.0 deg\nRMS ch 2=76.6 RMS ch 4=75.4 Wrist=45.0 deg\nRMS ch 2=76.4 RMS ch 4=75.8 Wrist=45.0 deg\nRMS ch 2=76.3 RMS ch 4=75.7 Wrist=45.0 deg\nRMS ch 2=76.3 RMS ch 4=75.5 Wrist=45.0 deg\nRMS ch 2=75.6 RMS ch 4=75.4 Wrist=45.0 deg\nRMS ch 2=75.0 RMS ch 4=74.8 Wrist=45.0 deg\n"
     ]
    },
    {
     "name": "stdout",
     "output_type": "stream",
     "text": [
      "RMS ch 2=74.9 RMS ch 4=74.6 Wrist=45.0 deg\nRMS ch 2=74.2 RMS ch 4=74.8 Wrist=45.0 deg\nRMS ch 2=74.5 RMS ch 4=74.2 Wrist=45.0 deg\nRMS ch 2=75.1 RMS ch 4=74.8 Wrist=45.0 deg\nRMS ch 2=75.4 RMS ch 4=75.1 Wrist=45.0 deg\nRMS ch 2=76.3 RMS ch 4=74.5 Wrist=45.0 deg\nRMS ch 2=76.4 RMS ch 4=74.5 Wrist=45.0 deg\nRMS ch 2=76.2 RMS ch 4=74.2 Wrist=45.0 deg\nRMS ch 2=76.1 RMS ch 4=74.3 Wrist=45.0 deg\nRMS ch 2=76.6 RMS ch 4=73.9 Wrist=45.0 deg\n"
     ]
    },
    {
     "name": "stdout",
     "output_type": "stream",
     "text": [
      "RMS ch 2=76.4 RMS ch 4=73.8 Wrist=45.0 deg\nRMS ch 2=76.5 RMS ch 4=73.5 Wrist=45.0 deg\nRMS ch 2=76.7 RMS ch 4=73.6 Wrist=45.0 deg\nRMS ch 2=77.2 RMS ch 4=73.7 Wrist=45.0 deg\nRMS ch 2=77.2 RMS ch 4=72.9 Wrist=45.0 deg\nRMS ch 2=77.0 RMS ch 4=72.4 Wrist=45.0 deg\nRMS ch 2=76.9 RMS ch 4=72.3 Wrist=45.0 deg\nRMS ch 2=77.4 RMS ch 4=71.8 Wrist=45.0 deg\nRMS ch 2=76.8 RMS ch 4=72.2 Wrist=45.0 deg\nRMS ch 2=76.9 RMS ch 4=72.3 Wrist=45.0 deg\n"
     ]
    }
   ],
   "source": [
    "import time\n",
    "\n",
    "chIds = [2, 4]  # <-- select channel ids controlling the wrist\n",
    "\n",
    "for i in range(50):\n",
    "    # add a 20 ms delay between loop iterations\n",
    "    time.sleep(0.02)\n",
    "\n",
    "    # get the data\n",
    "    emg = myo.get_data()\n",
    "    \n",
    "    # compute the root-mean-square for the selected channels\n",
    "    rms = np.sqrt(np.mean(emg[:, chIds]**2, axis=0))\n",
    "    \n",
    "    # compare the channel values to a numeric activation threshold to test which command to send\n",
    "    if rms[0] > 20:     # <-- adjust channel activation threshold\n",
    "        cmd = 'Wrist Flex'\n",
    "    elif rms[1] > 20:   # <-- adjust channel activation threshold\n",
    "        cmd = 'Wrist Extend'\n",
    "    else:\n",
    "        cmd = 'Rest'\n",
    "        \n",
    "    print('RMS ch {}={:.1f} RMS ch {}={:.1f} Command is {} '.format(chIds[0], rms[0], chIds[1], rms[1], cmd))\n"
   ]
  },
  {
   "cell_type": "markdown",
   "metadata": {},
   "source": [
    "## Command joint velocity and position using EMG\n"
   ]
  },
  {
   "cell_type": "code",
   "execution_count": 82,
   "metadata": {},
   "outputs": [
    {
     "name": "stdout",
     "output_type": "stream",
     "text": [
      "RMS ch 2=70.8 RMS ch 4=77.0 Wrist=1.4 deg\nRMS ch 2=71.2 RMS ch 4=77.2 Wrist=2.8 deg\nRMS ch 2=71.2 RMS ch 4=76.7 Wrist=4.1 deg\nRMS ch 2=71.3 RMS ch 4=77.3 Wrist=5.5 deg\nRMS ch 2=71.8 RMS ch 4=77.5 Wrist=6.9 deg\nRMS ch 2=72.0 RMS ch 4=77.1 Wrist=8.3 deg\nRMS ch 2=72.4 RMS ch 4=77.3 Wrist=9.6 deg\nRMS ch 2=73.1 RMS ch 4=76.4 Wrist=11.0 deg\nRMS ch 2=73.2 RMS ch 4=76.8 Wrist=12.4 deg\nRMS ch 2=73.3 RMS ch 4=76.6 Wrist=13.8 deg\n"
     ]
    },
    {
     "name": "stdout",
     "output_type": "stream",
     "text": [
      "RMS ch 2=73.3 RMS ch 4=76.4 Wrist=15.1 deg\nRMS ch 2=73.7 RMS ch 4=75.8 Wrist=16.5 deg\nRMS ch 2=73.7 RMS ch 4=76.3 Wrist=17.9 deg\nRMS ch 2=73.9 RMS ch 4=76.5 Wrist=19.3 deg\nRMS ch 2=74.0 RMS ch 4=76.3 Wrist=20.6 deg\nRMS ch 2=74.0 RMS ch 4=75.7 Wrist=22.0 deg\nRMS ch 2=74.2 RMS ch 4=75.4 Wrist=23.4 deg\nRMS ch 2=74.3 RMS ch 4=75.9 Wrist=24.8 deg\nRMS ch 2=74.4 RMS ch 4=75.7 Wrist=26.1 deg\nRMS ch 2=74.8 RMS ch 4=75.7 Wrist=27.5 deg\n"
     ]
    },
    {
     "name": "stdout",
     "output_type": "stream",
     "text": [
      "RMS ch 2=75.0 RMS ch 4=74.9 Wrist=28.9 deg\nRMS ch 2=75.4 RMS ch 4=75.0 Wrist=30.3 deg\nRMS ch 2=75.4 RMS ch 4=74.7 Wrist=31.6 deg\nRMS ch 2=75.4 RMS ch 4=74.7 Wrist=33.0 deg\nRMS ch 2=75.5 RMS ch 4=75.0 Wrist=34.4 deg\nRMS ch 2=76.0 RMS ch 4=75.2 Wrist=35.8 deg\nRMS ch 2=76.0 RMS ch 4=74.8 Wrist=37.1 deg\nRMS ch 2=75.9 RMS ch 4=75.1 Wrist=38.5 deg\nRMS ch 2=76.0 RMS ch 4=75.4 Wrist=39.9 deg\nRMS ch 2=76.3 RMS ch 4=75.3 Wrist=41.3 deg\n"
     ]
    },
    {
     "name": "stdout",
     "output_type": "stream",
     "text": [
      "RMS ch 2=76.2 RMS ch 4=75.7 Wrist=42.6 deg\nRMS ch 2=76.3 RMS ch 4=75.7 Wrist=44.0 deg\nRMS ch 2=76.4 RMS ch 4=75.7 Wrist=45.0 deg\nRMS ch 2=76.4 RMS ch 4=75.4 Wrist=45.0 deg\nRMS ch 2=76.2 RMS ch 4=75.3 Wrist=45.0 deg\nRMS ch 2=76.4 RMS ch 4=75.2 Wrist=45.0 deg\nRMS ch 2=77.1 RMS ch 4=75.1 Wrist=45.0 deg\nRMS ch 2=77.8 RMS ch 4=75.3 Wrist=45.0 deg\nRMS ch 2=78.0 RMS ch 4=75.5 Wrist=45.0 deg\nRMS ch 2=78.1 RMS ch 4=76.3 Wrist=45.0 deg\n"
     ]
    },
    {
     "name": "stdout",
     "output_type": "stream",
     "text": [
      "RMS ch 2=78.6 RMS ch 4=75.9 Wrist=45.0 deg\nRMS ch 2=78.1 RMS ch 4=75.6 Wrist=45.0 deg\nRMS ch 2=78.1 RMS ch 4=76.3 Wrist=45.0 deg\nRMS ch 2=78.4 RMS ch 4=76.6 Wrist=45.0 deg\nRMS ch 2=78.3 RMS ch 4=76.3 Wrist=45.0 deg\nRMS ch 2=78.5 RMS ch 4=76.0 Wrist=45.0 deg\nRMS ch 2=78.6 RMS ch 4=76.2 Wrist=45.0 deg\nRMS ch 2=78.4 RMS ch 4=76.5 Wrist=45.0 deg\nRMS ch 2=78.3 RMS ch 4=76.3 Wrist=45.0 deg\nRMS ch 2=78.0 RMS ch 4=76.5 Wrist=45.0 deg\n"
     ]
    },
    {
     "name": "stdout",
     "output_type": "stream",
     "text": [
      "RMS ch 2=77.6 RMS ch 4=76.6 Wrist=45.0 deg\nRMS ch 2=77.6 RMS ch 4=76.8 Wrist=45.0 deg\nRMS ch 2=77.8 RMS ch 4=76.9 Wrist=45.0 deg\nRMS ch 2=77.8 RMS ch 4=77.4 Wrist=45.0 deg\nRMS ch 2=77.8 RMS ch 4=77.2 Wrist=45.0 deg\nRMS ch 2=77.9 RMS ch 4=77.7 Wrist=45.0 deg\nRMS ch 2=78.3 RMS ch 4=77.8 Wrist=45.0 deg\nRMS ch 2=78.0 RMS ch 4=77.6 Wrist=45.0 deg\nRMS ch 2=77.8 RMS ch 4=78.4 Wrist=45.0 deg\nRMS ch 2=77.9 RMS ch 4=77.8 Wrist=45.0 deg\n"
     ]
    },
    {
     "name": "stdout",
     "output_type": "stream",
     "text": [
      "RMS ch 2=77.7 RMS ch 4=77.4 Wrist=45.0 deg\nRMS ch 2=77.7 RMS ch 4=78.2 Wrist=45.0 deg\nRMS ch 2=78.4 RMS ch 4=77.6 Wrist=45.0 deg\nRMS ch 2=78.2 RMS ch 4=77.7 Wrist=45.0 deg\nRMS ch 2=78.0 RMS ch 4=77.9 Wrist=45.0 deg\nRMS ch 2=77.8 RMS ch 4=77.6 Wrist=45.0 deg\nRMS ch 2=77.9 RMS ch 4=77.6 Wrist=45.0 deg\nRMS ch 2=78.2 RMS ch 4=77.6 Wrist=45.0 deg\nRMS ch 2=77.8 RMS ch 4=77.7 Wrist=45.0 deg\nRMS ch 2=77.3 RMS ch 4=77.3 Wrist=45.0 deg\n"
     ]
    },
    {
     "name": "stdout",
     "output_type": "stream",
     "text": [
      "RMS ch 2=77.8 RMS ch 4=77.3 Wrist=45.0 deg\nRMS ch 2=77.2 RMS ch 4=78.0 Wrist=45.0 deg\nRMS ch 2=77.0 RMS ch 4=77.6 Wrist=45.0 deg\nRMS ch 2=77.4 RMS ch 4=76.7 Wrist=45.0 deg\nRMS ch 2=77.7 RMS ch 4=76.7 Wrist=45.0 deg\nRMS ch 2=77.4 RMS ch 4=76.5 Wrist=45.0 deg\nRMS ch 2=77.7 RMS ch 4=76.8 Wrist=45.0 deg\nRMS ch 2=77.8 RMS ch 4=76.6 Wrist=45.0 deg\nRMS ch 2=77.7 RMS ch 4=76.7 Wrist=45.0 deg\nRMS ch 2=77.7 RMS ch 4=76.8 Wrist=45.0 deg\n"
     ]
    },
    {
     "name": "stdout",
     "output_type": "stream",
     "text": [
      "RMS ch 2=77.6 RMS ch 4=76.6 Wrist=45.0 deg\nRMS ch 2=77.3 RMS ch 4=76.4 Wrist=45.0 deg\nRMS ch 2=77.3 RMS ch 4=76.1 Wrist=45.0 deg\nRMS ch 2=76.8 RMS ch 4=75.9 Wrist=45.0 deg\nRMS ch 2=76.7 RMS ch 4=76.1 Wrist=45.0 deg\nRMS ch 2=76.1 RMS ch 4=76.3 Wrist=45.0 deg\nRMS ch 2=75.8 RMS ch 4=76.3 Wrist=45.0 deg\nRMS ch 2=76.1 RMS ch 4=76.5 Wrist=45.0 deg\nRMS ch 2=75.4 RMS ch 4=76.8 Wrist=45.0 deg\nRMS ch 2=75.8 RMS ch 4=76.9 Wrist=45.0 deg\n"
     ]
    },
    {
     "name": "stdout",
     "output_type": "stream",
     "text": [
      "RMS ch 2=75.4 RMS ch 4=76.0 Wrist=45.0 deg\nRMS ch 2=75.7 RMS ch 4=75.8 Wrist=45.0 deg\nRMS ch 2=75.8 RMS ch 4=75.9 Wrist=45.0 deg\nRMS ch 2=75.7 RMS ch 4=75.4 Wrist=45.0 deg\nRMS ch 2=76.6 RMS ch 4=75.4 Wrist=45.0 deg\nRMS ch 2=76.4 RMS ch 4=75.8 Wrist=45.0 deg\nRMS ch 2=76.3 RMS ch 4=75.7 Wrist=45.0 deg\nRMS ch 2=76.3 RMS ch 4=75.5 Wrist=45.0 deg\nRMS ch 2=75.6 RMS ch 4=75.4 Wrist=45.0 deg\nRMS ch 2=75.0 RMS ch 4=74.8 Wrist=45.0 deg\n"
     ]
    },
    {
     "name": "stdout",
     "output_type": "stream",
     "text": [
      "RMS ch 2=74.9 RMS ch 4=74.6 Wrist=45.0 deg\nRMS ch 2=74.2 RMS ch 4=74.8 Wrist=45.0 deg\nRMS ch 2=74.5 RMS ch 4=74.2 Wrist=45.0 deg\nRMS ch 2=75.1 RMS ch 4=74.8 Wrist=45.0 deg\nRMS ch 2=75.4 RMS ch 4=75.1 Wrist=45.0 deg\nRMS ch 2=76.3 RMS ch 4=74.5 Wrist=45.0 deg\nRMS ch 2=76.4 RMS ch 4=74.5 Wrist=45.0 deg\nRMS ch 2=76.2 RMS ch 4=74.2 Wrist=45.0 deg\nRMS ch 2=76.1 RMS ch 4=74.3 Wrist=45.0 deg\nRMS ch 2=76.6 RMS ch 4=73.9 Wrist=45.0 deg\n"
     ]
    },
    {
     "name": "stdout",
     "output_type": "stream",
     "text": [
      "RMS ch 2=76.4 RMS ch 4=73.8 Wrist=45.0 deg\nRMS ch 2=76.5 RMS ch 4=73.5 Wrist=45.0 deg\nRMS ch 2=76.7 RMS ch 4=73.6 Wrist=45.0 deg\nRMS ch 2=77.2 RMS ch 4=73.7 Wrist=45.0 deg\nRMS ch 2=77.2 RMS ch 4=72.9 Wrist=45.0 deg\nRMS ch 2=77.0 RMS ch 4=72.4 Wrist=45.0 deg\nRMS ch 2=76.9 RMS ch 4=72.3 Wrist=45.0 deg\nRMS ch 2=77.4 RMS ch 4=71.8 Wrist=45.0 deg\nRMS ch 2=76.8 RMS ch 4=72.2 Wrist=45.0 deg\nRMS ch 2=76.9 RMS ch 4=72.3 Wrist=45.0 deg\n"
     ]
    }
   ],
   "source": [
    "import math\n",
    "import struct \n",
    "\n",
    "# Create a User Datagram Protocol (UDP) network socket for vMPL communications\n",
    "import socket\n",
    "\n",
    "UdpLocalPort = 25001  # 25101 = Left; 25001 = Right\n",
    "UdpDestinationPort = 25000  # 25100 = Left; 25000 = Right\n",
    "UdpAddress = '127.0.0.1'  # IP address of the Virtual MPL '127.0.0.1'\n",
    "sock = socket.socket(socket.AF_INET, socket.SOCK_DGRAM)\n",
    "sock.bind(('0.0.0.0', 25001))  # Bind the socket to receive incoming messages\n",
    "sock.settimeout(3.0)  # seconds\n",
    "\n",
    "\n",
    "chIds = [2, 4]  # <-- select channels for wrist flex (1) and extend (2)\n",
    "\n",
    "p = 0          # store current position\n",
    "direction = 1  # specify a direction variable +/- 1\n",
    "dt = 0.02       # define a loop iteration tim in seconds\n",
    "\n",
    "upperArmAngles = [0.0] * 7\n",
    "handAngles = [0.0] * 20\n",
    "\n",
    "for i in range(120):\n",
    "    # add a 20 ms delay between loop iterations\n",
    "    time.sleep(dt)\n",
    "\n",
    "    # get the data\n",
    "    emg = myo.get_data()\n",
    "    \n",
    "    # compute the root-mean-square for the selected channels\n",
    "    rms = np.sqrt(np.mean(emg[:, chIds]**2, axis=0))\n",
    "        \n",
    "    # threshold data to generate command of certain joint velocity/direction\n",
    "    if rms[0] > 0.2:       # <-- adjust channel activation threshold\n",
    "        v = +1.2  # fixed negative velocity\n",
    "    elif rms[1] > 0.2:   # <-- adjust channel activation threshold\n",
    "        v = -1.2  # fixed positive velocity\n",
    "    else:\n",
    "        v = 0\n",
    " \n",
    "    # perform velocity integration to get position for joints\n",
    "    p = p + (v * dt)\n",
    "    \n",
    "    # constrain the angle to the joint limits (between ±pi/4, or ±45deg)\n",
    "    p = min(max(p,-math.pi/4),math.pi/4)\n",
    "    \n",
    "    # set the position of the wrist\n",
    "    upperArmAngles[6] = p\n",
    "\n",
    "    # send the arm command\n",
    "    upperArmAngles[0] = 35 * math.pi / 180\n",
    "    upperArmAngles[3] = 60 * math.pi / 180\n",
    "    \n",
    "    values = upperArmAngles + handAngles\n",
    "    packer = struct.Struct('27f')\n",
    "    packed_data = packer.pack(*values)\n",
    "    \n",
    "    sock.sendto(packed_data, ('127.0.0.1', 25000))\n",
    "    \n",
    "    # print the status \n",
    "    print('RMS ch {}={:.1f} RMS ch {}={:.1f} Wrist={:.1f} deg'.format(chIds[0], rms[0], chIds[1], rms[1], p * 180 / math.pi))\n",
    "\n"
   ]
  },
  {
   "cell_type": "markdown",
   "metadata": {},
   "source": [
    "## Using Motion Based Inputs\n",
    "In this example, you will use motion sensors as additional inputs for controlling an arm.  The Myo Armband transmits its orientation (Rx, Ry, Rz), linear acceleration (Ax, Ay, Az) and angular rate (dRx, dRy, dRz) using a gyroscope.  For this strategy, we’ll use the orientation for the elbow angle directly.  For the shoulder flexion angle, we’ll use the angular rate such that jerking your arm up will raise the shoulder and rapidly extending your arm will lower the shoulder.\n"
   ]
  },
  {
   "cell_type": "code",
   "execution_count": 89,
   "metadata": {},
   "outputs": [
    {
     "name": "stdout",
     "output_type": "stream",
     "text": [
      "Shoulder FE angle is: 0.0 degrees\nShoulder FE angle is: 0.0 degrees\nShoulder FE angle is: 0.0 degrees\nShoulder FE angle is: 0.0 degrees\nShoulder FE angle is: 0.0 degrees\nShoulder FE angle is: 0.0 degrees\nShoulder FE angle is: 0.0 degrees\nShoulder FE angle is: 0.0 degrees\nShoulder FE angle is: 0.0 degrees\nShoulder FE angle is: -15.0 degrees\nShoulder FE angle is: 180.0 degrees\nShoulder FE angle is: 180.0 degrees\nShoulder FE angle is: 180.0 degrees\nShoulder FE angle is: 180.0 degrees\nShoulder FE angle is: 180.0 degrees\nShoulder FE angle is: 180.0 degrees\nShoulder FE angle is: 180.0 degrees\nShoulder FE angle is: 180.0 degrees\nShoulder FE angle is: 180.0 degrees\nShoulder FE angle is: 180.0 degrees\nShoulder FE angle is: 180.0 degrees\nShoulder FE angle is: 180.0 degrees\nShoulder FE angle is: 180.0 degrees\nShoulder FE angle is: 180.0 degrees\nShoulder FE angle is: 180.0 degrees\nShoulder FE angle is: 180.0 degrees\nShoulder FE angle is: 180.0 degrees\nShoulder FE angle is: 180.0 degrees\nShoulder FE angle is: 180.0 degrees\nShoulder FE angle is: 180.0 degrees\nShoulder FE angle is: 180.0 degrees\nShoulder FE angle is: 180.0 degrees\nShoulder FE angle is: 180.0 degrees\nShoulder FE angle is: 180.0 degrees\nShoulder FE angle is: 180.0 degrees\nShoulder FE angle is: 180.0 degrees\nShoulder FE angle is: 180.0 degrees\nShoulder FE angle is: 180.0 degrees\nShoulder FE angle is: 180.0 degrees\nShoulder FE angle is: 180.0 degrees\nShoulder FE angle is: -15.0 degrees\nShoulder FE angle is: -15.0 degrees\nShoulder FE angle is: -15.0 degrees\nShoulder FE angle is: -15.0 degrees\nShoulder FE angle is: -15.0 degrees\nShoulder FE angle is: -15.0 degrees\nShoulder FE angle is: -15.0 degrees\nShoulder FE angle is: 180.0 degrees\nShoulder FE angle is: 180.0 degrees\nShoulder FE angle is: 180.0 degrees\nShoulder FE angle is: 180.0 degrees\nShoulder FE angle is: 180.0 degrees\nShoulder FE angle is: 180.0 degrees\nShoulder FE angle is: 180.0 degrees\nShoulder FE angle is: 180.0 degrees\nShoulder FE angle is: 180.0 degrees\nShoulder FE angle is: 180.0 degrees\nShoulder FE angle is: 180.0 degrees\nShoulder FE angle is: 180.0 degrees\nShoulder FE angle is: 180.0 degrees\nShoulder FE angle is: 180.0 degrees\nShoulder FE angle is: 180.0 degrees\nShoulder FE angle is: 180.0 degrees\nShoulder FE angle is: 180.0 degrees\nShoulder FE angle is: 180.0 degrees\nShoulder FE angle is: 180.0 degrees\nShoulder FE angle is: 180.0 degrees\nShoulder FE angle is: 180.0 degrees\nShoulder FE angle is: 180.0 degrees\nShoulder FE angle is: 180.0 degrees\nShoulder FE angle is: 180.0 degrees\nShoulder FE angle is: 180.0 degrees\nShoulder FE angle is: 180.0 degrees\nShoulder FE angle is: 180.0 degrees\nShoulder FE angle is: 180.0 degrees\nShoulder FE angle is: 180.0 degrees\nShoulder FE angle is: 180.0 degrees\nShoulder FE angle is: 180.0 degrees\nShoulder FE angle is: 180.0 degrees\nShoulder FE angle is: 180.0 degrees\nShoulder FE angle is: 180.0 degrees\nShoulder FE angle is: 180.0 degrees\nShoulder FE angle is: 180.0 degrees\nShoulder FE angle is: 180.0 degrees\nShoulder FE angle is: 180.0 degrees\nShoulder FE angle is: 180.0 degrees\nShoulder FE angle is: 180.0 degrees\nShoulder FE angle is: 180.0 degrees\nShoulder FE angle is: 180.0 degrees\nShoulder FE angle is: 180.0 degrees\nShoulder FE angle is: 180.0 degrees\nShoulder FE angle is: 180.0 degrees\nShoulder FE angle is: 180.0 degrees\nShoulder FE angle is: 180.0 degrees\nShoulder FE angle is: 180.0 degrees\nShoulder FE angle is: -15.0 degrees\nShoulder FE angle is: -15.0 degrees\nShoulder FE angle is: -15.0 degrees\nShoulder FE angle is: -15.0 degrees\nShoulder FE angle is: -15.0 degrees\nShoulder FE angle is: -15.0 degrees\nShoulder FE angle is: -15.0 degrees\nShoulder FE angle is: -15.0 degrees\nShoulder FE angle is: -15.0 degrees\nShoulder FE angle is: -15.0 degrees\nShoulder FE angle is: -15.0 degrees\nShoulder FE angle is: -15.0 degrees\nShoulder FE angle is: -15.0 degrees\nShoulder FE angle is: -15.0 degrees\nShoulder FE angle is: -15.0 degrees\nShoulder FE angle is: -15.0 degrees\nShoulder FE angle is: -15.0 degrees\nShoulder FE angle is: -15.0 degrees\nShoulder FE angle is: -15.0 degrees\nShoulder FE angle is: -15.0 degrees\nShoulder FE angle is: -15.0 degrees\nShoulder FE angle is: -15.0 degrees\nShoulder FE angle is: -15.0 degrees\nShoulder FE angle is: -15.0 degrees\nShoulder FE angle is: -15.0 degrees\n"
     ]
    }
   ],
   "source": [
    "\n",
    "SHFE = 0   # store an initial angle for the shoulder\n",
    "\n",
    "for i in range(120): \n",
    " \n",
    "    emg = myo.get_data()          # update myo and get data\n",
    "    Rxyz = myo.get_angles()       # get orientation angles\n",
    "    imu = myo.get_imu()      # get angular rate\n",
    "    Rxyz_dot = imu['gyro']\n",
    "    #print(Rxyz_dot)\n",
    "    \n",
    "    # use the arm band angle as the elbow angle directly\n",
    "    ELBOW = Rxyz[1] + 90\n",
    " \n",
    "    # For the shoulder, use the angular rate of the armband.\n",
    "    # If the angular rate is fast, change the shoulder angle\n",
    "    if abs(Rxyz_dot[1]) > 300:\n",
    "        # rotate the shoulder in proportion to angular rate\n",
    "        SHFE = SHFE + 0.01*Rxyz_dot[1]\n",
    "    \n",
    "    # constrain the shoulder angle to -15 < x < 180 degrees\n",
    "    SHFE = min(max(SHFE,-15),180)\n",
    "    \n",
    "    print('Shoulder FE angle is: {:.1f} degrees'.format(SHFE))\n",
    " \n",
    "    # convert armband angles (deg) to MPL joint angles (rad)\n",
    "    upperArmAngles[0] = SHFE * math.pi / 180\n",
    "    upperArmAngles[3] = ELBOW * math.pi / 180\n",
    "    \n",
    "    # send the commands\n",
    "    values = upperArmAngles + handAngles\n",
    "    packer = struct.Struct('27f')\n",
    "    packed_data = packer.pack(*values)\n",
    "    \n",
    "    sock.sendto(packed_data, ('127.0.0.1', 25000))\n"
   ]
  },
  {
   "cell_type": "code",
   "execution_count": 90,
   "metadata": {},
   "outputs": [
    {
     "name": "stderr",
     "output_type": "stream",
     "text": [
      "Exception in thread WebThread:\nTraceback (most recent call last):\n  File \"C:\\Users\\armigrs1\\AppData\\Local\\Programs\\Python\\Python36\\lib\\threading.py\", line 916, in _bootstrap_inner\n    self.run()\n  File \"C:\\Users\\armigrs1\\AppData\\Local\\Programs\\Python\\Python36\\lib\\threading.py\", line 864, in run\n    self._target(*self._args, **self._kwargs)\n  File \"C:\\Users\\armigrs1\\AppData\\Local\\Programs\\Python\\Python36\\lib\\site-packages\\tornado\\ioloop.py\", line 755, in start\n    raise RuntimeError(\"IOLoop is already running\")\nRuntimeError: IOLoop is already running\n\nCRITICAL:root:Failed to find file ../../WrRocDefaults.xml in C:\\git\\minivie. Program Halted.\n"
     ]
    },
    {
     "name": "stdout",
     "output_type": "stream",
     "text": [
      "File Not Found: TRAINING_DATA.hdf5\nNo Data\n"
     ]
    },
    {
     "ename": "SystemExit",
     "evalue": "1",
     "traceback": [
      "An exception has occurred, use %tb to see the full traceback.\n",
      "\u001b[0;31mSystemExit\u001b[0m\u001b[0;31m:\u001b[0m 1\n"
     ],
     "output_type": "error"
    },
    {
     "ename": "TypeError",
     "evalue": "'level' is an invalid keyword argument for this function",
     "traceback": [
      "\u001b[0;31m---------------------------------------------------------------------------\u001b[0m",
      "\u001b[0;31mFileNotFoundError\u001b[0m                         Traceback (most recent call last)",
      "\u001b[0;32mC:\\git\\minivie\\python\\minivie\\mpl\\roc.py\u001b[0m in \u001b[0;36mread_roc_table\u001b[0;34m(file)\u001b[0m\n\u001b[1;32m     33\u001b[0m     \u001b[0;32mtry\u001b[0m\u001b[0;34m:\u001b[0m\u001b[0;34m\u001b[0m\u001b[0m\n\u001b[0;32m---> 34\u001b[0;31m         \u001b[0mroc_table_tree\u001b[0m \u001b[0;34m=\u001b[0m \u001b[0mxmlTree\u001b[0m\u001b[0;34m.\u001b[0m\u001b[0mparse\u001b[0m\u001b[0;34m(\u001b[0m\u001b[0mfile\u001b[0m\u001b[0;34m)\u001b[0m  \u001b[0;31m# store ROC table as an ElementTree\u001b[0m\u001b[0;34m\u001b[0m\u001b[0m\n\u001b[0m\u001b[1;32m     35\u001b[0m     \u001b[0;32mexcept\u001b[0m \u001b[0mFileNotFoundError\u001b[0m\u001b[0;34m:\u001b[0m\u001b[0;34m\u001b[0m\u001b[0m\n",
      "\u001b[0;32mC:\\Users\\armigrs1\\AppData\\Local\\Programs\\Python\\Python36\\lib\\xml\\etree\\ElementTree.py\u001b[0m in \u001b[0;36mparse\u001b[0;34m(source, parser)\u001b[0m\n\u001b[1;32m   1195\u001b[0m     \u001b[0mtree\u001b[0m \u001b[0;34m=\u001b[0m \u001b[0mElementTree\u001b[0m\u001b[0;34m(\u001b[0m\u001b[0;34m)\u001b[0m\u001b[0;34m\u001b[0m\u001b[0m\n\u001b[0;32m-> 1196\u001b[0;31m     \u001b[0mtree\u001b[0m\u001b[0;34m.\u001b[0m\u001b[0mparse\u001b[0m\u001b[0;34m(\u001b[0m\u001b[0msource\u001b[0m\u001b[0;34m,\u001b[0m \u001b[0mparser\u001b[0m\u001b[0;34m)\u001b[0m\u001b[0;34m\u001b[0m\u001b[0m\n\u001b[0m\u001b[1;32m   1197\u001b[0m     \u001b[0;32mreturn\u001b[0m \u001b[0mtree\u001b[0m\u001b[0;34m\u001b[0m\u001b[0m\n",
      "\u001b[0;32mC:\\Users\\armigrs1\\AppData\\Local\\Programs\\Python\\Python36\\lib\\xml\\etree\\ElementTree.py\u001b[0m in \u001b[0;36mparse\u001b[0;34m(self, source, parser)\u001b[0m\n\u001b[1;32m    585\u001b[0m         \u001b[0;32mif\u001b[0m \u001b[0;32mnot\u001b[0m \u001b[0mhasattr\u001b[0m\u001b[0;34m(\u001b[0m\u001b[0msource\u001b[0m\u001b[0;34m,\u001b[0m \u001b[0;34m\"read\"\u001b[0m\u001b[0;34m)\u001b[0m\u001b[0;34m:\u001b[0m\u001b[0;34m\u001b[0m\u001b[0m\n\u001b[0;32m--> 586\u001b[0;31m             \u001b[0msource\u001b[0m \u001b[0;34m=\u001b[0m \u001b[0mopen\u001b[0m\u001b[0;34m(\u001b[0m\u001b[0msource\u001b[0m\u001b[0;34m,\u001b[0m \u001b[0;34m\"rb\"\u001b[0m\u001b[0;34m)\u001b[0m\u001b[0;34m\u001b[0m\u001b[0m\n\u001b[0m\u001b[1;32m    587\u001b[0m             \u001b[0mclose_source\u001b[0m \u001b[0;34m=\u001b[0m \u001b[0;32mTrue\u001b[0m\u001b[0;34m\u001b[0m\u001b[0m\n",
      "\u001b[0;31mFileNotFoundError\u001b[0m: [Errno 2] No such file or directory: '../../WrRocDefaults.xml'",
      "\nDuring handling of the above exception, another exception occurred:\n",
      "\u001b[0;31mSystemExit\u001b[0m                                Traceback (most recent call last)",
      "\u001b[0;32mC:\\Users\\armigrs1\\AppData\\Local\\Programs\\Python\\Python36\\lib\\site-packages\\IPython\\core\\interactiveshell.py\u001b[0m in \u001b[0;36mrun_code\u001b[0;34m(self, code_obj, result)\u001b[0m\n\u001b[1;32m   2868\u001b[0m                 \u001b[0;31m#rprint('Running code', repr(code_obj)) # dbg\u001b[0m\u001b[0;34m\u001b[0m\u001b[0;34m\u001b[0m\u001b[0m\n\u001b[0;32m-> 2869\u001b[0;31m                 \u001b[0mexec\u001b[0m\u001b[0;34m(\u001b[0m\u001b[0mcode_obj\u001b[0m\u001b[0;34m,\u001b[0m \u001b[0mself\u001b[0m\u001b[0;34m.\u001b[0m\u001b[0muser_global_ns\u001b[0m\u001b[0;34m,\u001b[0m \u001b[0mself\u001b[0m\u001b[0;34m.\u001b[0m\u001b[0muser_ns\u001b[0m\u001b[0;34m)\u001b[0m\u001b[0;34m\u001b[0m\u001b[0m\n\u001b[0m\u001b[1;32m   2870\u001b[0m             \u001b[0;32mfinally\u001b[0m\u001b[0;34m:\u001b[0m\u001b[0;34m\u001b[0m\u001b[0m\n",
      "\u001b[0;32m<ipython-input-90-e02135f0ae02>\u001b[0m in \u001b[0;36m<module>\u001b[0;34m()\u001b[0m\n\u001b[1;32m     10\u001b[0m \u001b[0mvie\u001b[0m\u001b[0;34m.\u001b[0m\u001b[0mTrainingInterface\u001b[0m\u001b[0;34m.\u001b[0m\u001b[0madd_message_handler\u001b[0m\u001b[0;34m(\u001b[0m\u001b[0mvie\u001b[0m\u001b[0;34m.\u001b[0m\u001b[0mcommand_string\u001b[0m\u001b[0;34m)\u001b[0m\u001b[0;34m\u001b[0m\u001b[0m\n\u001b[0;32m---> 11\u001b[0;31m \u001b[0mvie\u001b[0m\u001b[0;34m.\u001b[0m\u001b[0msetup\u001b[0m\u001b[0;34m(\u001b[0m\u001b[0;34m)\u001b[0m\u001b[0;34m\u001b[0m\u001b[0m\n\u001b[0m\u001b[1;32m     12\u001b[0m \u001b[0;34m\u001b[0m\u001b[0m\n",
      "\u001b[0;32mC:\\git\\minivie\\python\\minivie\\scenarios\\__init__.py\u001b[0m in \u001b[0;36msetup\u001b[0;34m(self)\u001b[0m\n\u001b[1;32m    575\u001b[0m         \u001b[0mdt\u001b[0m \u001b[0;34m=\u001b[0m \u001b[0mget_user_config_var\u001b[0m\u001b[0;34m(\u001b[0m\u001b[0;34m'timestep'\u001b[0m\u001b[0;34m,\u001b[0m \u001b[0;36m0.02\u001b[0m\u001b[0;34m)\u001b[0m\u001b[0;34m\u001b[0m\u001b[0m\n\u001b[0;32m--> 576\u001b[0;31m         \u001b[0mself\u001b[0m\u001b[0;34m.\u001b[0m\u001b[0mPlant\u001b[0m \u001b[0;34m=\u001b[0m \u001b[0mPlant\u001b[0m\u001b[0;34m(\u001b[0m\u001b[0mdt\u001b[0m\u001b[0;34m,\u001b[0m \u001b[0mfilename\u001b[0m\u001b[0;34m)\u001b[0m\u001b[0;34m\u001b[0m\u001b[0m\n\u001b[0m\u001b[1;32m    577\u001b[0m \u001b[0;34m\u001b[0m\u001b[0m\n",
      "\u001b[0;32mC:\\git\\minivie\\python\\minivie\\controls\\plant.py\u001b[0m in \u001b[0;36m__init__\u001b[0;34m(self, dt, roc_filename)\u001b[0m\n\u001b[1;32m    124\u001b[0m \u001b[0;34m\u001b[0m\u001b[0m\n\u001b[0;32m--> 125\u001b[0;31m         \u001b[0mself\u001b[0m\u001b[0;34m.\u001b[0m\u001b[0mload_roc\u001b[0m\u001b[0;34m(\u001b[0m\u001b[0;34m)\u001b[0m\u001b[0;34m\u001b[0m\u001b[0m\n\u001b[0m\u001b[1;32m    126\u001b[0m         \u001b[0mself\u001b[0m\u001b[0;34m.\u001b[0m\u001b[0mload_config_parameters\u001b[0m\u001b[0;34m(\u001b[0m\u001b[0;34m)\u001b[0m\u001b[0;34m\u001b[0m\u001b[0m\n",
      "\u001b[0;32mC:\\git\\minivie\\python\\minivie\\controls\\plant.py\u001b[0m in \u001b[0;36mload_roc\u001b[0;34m(self)\u001b[0m\n\u001b[1;32m    138\u001b[0m         \u001b[0mlogging\u001b[0m\u001b[0;34m.\u001b[0m\u001b[0minfo\u001b[0m\u001b[0;34m(\u001b[0m\u001b[0;34m'Loading ROC table {}'\u001b[0m\u001b[0;34m.\u001b[0m\u001b[0mformat\u001b[0m\u001b[0;34m(\u001b[0m\u001b[0mself\u001b[0m\u001b[0;34m.\u001b[0m\u001b[0mroc_filename\u001b[0m\u001b[0;34m)\u001b[0m\u001b[0;34m)\u001b[0m\u001b[0;34m\u001b[0m\u001b[0m\n\u001b[0;32m--> 139\u001b[0;31m         \u001b[0mself\u001b[0m\u001b[0;34m.\u001b[0m\u001b[0mroc_table\u001b[0m \u001b[0;34m=\u001b[0m \u001b[0mroc\u001b[0m\u001b[0;34m.\u001b[0m\u001b[0mread_roc_table\u001b[0m\u001b[0;34m(\u001b[0m\u001b[0mself\u001b[0m\u001b[0;34m.\u001b[0m\u001b[0mroc_filename\u001b[0m\u001b[0;34m)\u001b[0m\u001b[0;34m\u001b[0m\u001b[0m\n\u001b[0m\u001b[1;32m    140\u001b[0m \u001b[0;34m\u001b[0m\u001b[0m\n",
      "\u001b[0;32mC:\\git\\minivie\\python\\minivie\\mpl\\roc.py\u001b[0m in \u001b[0;36mread_roc_table\u001b[0;34m(file)\u001b[0m\n\u001b[1;32m     37\u001b[0m         \u001b[0mlogging\u001b[0m\u001b[0;34m.\u001b[0m\u001b[0mcritical\u001b[0m\u001b[0;34m(\u001b[0m\u001b[0;34m'Failed to find file {} in {}. Program Halted.'\u001b[0m\u001b[0;34m.\u001b[0m\u001b[0mformat\u001b[0m\u001b[0;34m(\u001b[0m\u001b[0mfile\u001b[0m\u001b[0;34m,\u001b[0m \u001b[0mos\u001b[0m\u001b[0;34m.\u001b[0m\u001b[0mgetcwd\u001b[0m\u001b[0;34m(\u001b[0m\u001b[0;34m)\u001b[0m\u001b[0;34m)\u001b[0m\u001b[0;34m)\u001b[0m\u001b[0;34m\u001b[0m\u001b[0m\n\u001b[0;32m---> 38\u001b[0;31m         \u001b[0msys\u001b[0m\u001b[0;34m.\u001b[0m\u001b[0mexit\u001b[0m\u001b[0;34m(\u001b[0m\u001b[0;36m1\u001b[0m\u001b[0;34m)\u001b[0m\u001b[0;34m\u001b[0m\u001b[0m\n\u001b[0m\u001b[1;32m     39\u001b[0m \u001b[0;34m\u001b[0m\u001b[0m\n",
      "\u001b[0;31mSystemExit\u001b[0m: 1",
      "\nDuring handling of the above exception, another exception occurred:\n",
      "\u001b[0;31mTypeError\u001b[0m                                 Traceback (most recent call last)",
      "\u001b[0;32mC:\\Users\\armigrs1\\AppData\\Local\\Programs\\Python\\Python36\\lib\\site-packages\\IPython\\core\\interactiveshell.py\u001b[0m in \u001b[0;36mrun_code\u001b[0;34m(self, code_obj, result)\u001b[0m\n\u001b[1;32m   2875\u001b[0m                 \u001b[0mresult\u001b[0m\u001b[0;34m.\u001b[0m\u001b[0merror_in_exec\u001b[0m \u001b[0;34m=\u001b[0m \u001b[0me\u001b[0m\u001b[0;34m\u001b[0m\u001b[0m\n\u001b[1;32m   2876\u001b[0m             \u001b[0mself\u001b[0m\u001b[0;34m.\u001b[0m\u001b[0mshowtraceback\u001b[0m\u001b[0;34m(\u001b[0m\u001b[0mexception_only\u001b[0m\u001b[0;34m=\u001b[0m\u001b[0;32mTrue\u001b[0m\u001b[0;34m)\u001b[0m\u001b[0;34m\u001b[0m\u001b[0m\n\u001b[0;32m-> 2877\u001b[0;31m             \u001b[0mwarn\u001b[0m\u001b[0;34m(\u001b[0m\u001b[0;34m\"To exit: use 'exit', 'quit', or Ctrl-D.\"\u001b[0m\u001b[0;34m,\u001b[0m \u001b[0mlevel\u001b[0m\u001b[0;34m=\u001b[0m\u001b[0;36m1\u001b[0m\u001b[0;34m)\u001b[0m\u001b[0;34m\u001b[0m\u001b[0m\n\u001b[0m\u001b[1;32m   2878\u001b[0m         \u001b[0;32mexcept\u001b[0m \u001b[0mself\u001b[0m\u001b[0;34m.\u001b[0m\u001b[0mcustom_exceptions\u001b[0m\u001b[0;34m:\u001b[0m\u001b[0;34m\u001b[0m\u001b[0m\n\u001b[1;32m   2879\u001b[0m             \u001b[0metype\u001b[0m\u001b[0;34m,\u001b[0m \u001b[0mvalue\u001b[0m\u001b[0;34m,\u001b[0m \u001b[0mtb\u001b[0m \u001b[0;34m=\u001b[0m \u001b[0msys\u001b[0m\u001b[0;34m.\u001b[0m\u001b[0mexc_info\u001b[0m\u001b[0;34m(\u001b[0m\u001b[0;34m)\u001b[0m\u001b[0;34m\u001b[0m\u001b[0m\n",
      "\u001b[0;31mTypeError\u001b[0m: 'level' is an invalid keyword argument for this function"
     ],
     "output_type": "error"
    }
   ],
   "source": [
    "import scenarios\n",
    "from pattern_rec import training\n",
    "from utilities.user_config import get_user_config_var, read_user_config, setup_file_logging\n",
    "\n",
    "# Setup MPL scenario\n",
    "# A Scenario is the fundamental building blocks of the VIE: Inputs, Signal Analysis, System Plant, and Output Sink\n",
    "\n",
    "read_user_config('C:/git/minivie/python/minivie/BEPI.xml')\n",
    "\n",
    "vie = scenarios.MplScenario()\n",
    "\n",
    "vie.TrainingInterface = training.TrainingManagerWebsocket()\n",
    "vie.TrainingInterface.setup(port=9090)\n",
    "vie.TrainingInterface.add_message_handler(vie.command_string)\n",
    "vie.setup()\n",
    "\n",
    "try:\n",
    "    vie.run()\n",
    "except KeyboardInterrupt:\n",
    "    vie.close()\n",
    "    vie.TrainingInterface.close()"
   ]
  },
  {
   "cell_type": "code",
   "execution_count": null,
   "metadata": {},
   "outputs": [],
   "source": []
  }
 ],
 "metadata": {
  "kernelspec": {
   "display_name": "Python 2",
   "language": "python",
   "name": "python2"
  },
  "language_info": {
   "codemirror_mode": {
    "name": "ipython",
    "version": 2
   },
   "file_extension": ".py",
   "mimetype": "text/x-python",
   "name": "python",
   "nbconvert_exporter": "python",
   "pygments_lexer": "ipython2",
   "version": "2.7.6"
  }
 },
 "nbformat": 4,
 "nbformat_minor": 0
}
